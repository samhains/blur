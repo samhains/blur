{
 "cells": [
  {
   "cell_type": "code",
   "execution_count": 36,
   "metadata": {
    "collapsed": false
   },
   "outputs": [],
   "source": [
    "from PIL import Image\n",
    "import os\n",
    "import matplotlib.pyplot as plt\n",
    "import utils\n",
    "import numpy as np\n",
    "\n",
    "def crop(infile,height,width):\n",
    "    im = Image.open(infile)\n",
    "    imgwidth, imgheight = im.size\n",
    "    for i in range(imgheight//height):\n",
    "        for j in range(imgwidth//width):\n",
    "            box = (j*width, i*height, (j+1)*width, (i+1)*height)\n",
    "            yield im.crop(box)\n",
    "\n"
   ]
  },
  {
   "cell_type": "code",
   "execution_count": 51,
   "metadata": {
    "collapsed": false
   },
   "outputs": [
    {
     "name": "stdout",
     "output_type": "stream",
     "text": [
      "saving to path ./tmp_img/IMG-0.png\n",
      "saving to path ./tmp_img/IMG-1.png\n",
      "saving to path ./tmp_img/IMG-2.png\n",
      "saving to path ./tmp_img/IMG-3.png\n",
      "saving to path ./tmp_img/IMG-4.png\n",
      "saving to path ./tmp_img/IMG-5.png\n",
      "saving to path ./tmp_img/IMG-6.png\n",
      "saving to path ./tmp_img/IMG-7.png\n",
      "saving to path ./tmp_img/IMG-8.png\n",
      "saving to path ./tmp_img/IMG-9.png\n",
      "saving to path ./tmp_img/IMG-10.png\n",
      "saving to path ./tmp_img/IMG-11.png\n",
      "saving to path ./tmp_img/IMG-12.png\n",
      "saving to path ./tmp_img/IMG-13.png\n",
      "saving to path ./tmp_img/IMG-14.png\n",
      "saving to path ./tmp_img/IMG-15.png\n",
      "saving to path ./tmp_img/IMG-16.png\n",
      "saving to path ./tmp_img/IMG-17.png\n",
      "saving to path ./tmp_img/IMG-18.png\n",
      "saving to path ./tmp_img/IMG-19.png\n",
      "saving to path ./tmp_img/IMG-20.png\n",
      "saving to path ./tmp_img/IMG-21.png\n",
      "saving to path ./tmp_img/IMG-22.png\n",
      "saving to path ./tmp_img/IMG-23.png\n",
      "saving to path ./tmp_img/IMG-24.png\n",
      "saving to path ./tmp_img/IMG-25.png\n",
      "saving to path ./tmp_img/IMG-26.png\n",
      "saving to path ./tmp_img/IMG-27.png\n",
      "saving to path ./tmp_img/IMG-28.png\n",
      "saving to path ./tmp_img/IMG-29.png\n",
      "saving to path ./tmp_img/IMG-30.png\n",
      "saving to path ./tmp_img/IMG-31.png\n",
      "saving to path ./tmp_img/IMG-32.png\n",
      "saving to path ./tmp_img/IMG-33.png\n",
      "saving to path ./tmp_img/IMG-34.png\n",
      "saving to path ./tmp_img/IMG-35.png\n",
      "saving to path ./tmp_img/IMG-36.png\n",
      "saving to path ./tmp_img/IMG-37.png\n",
      "saving to path ./tmp_img/IMG-38.png\n",
      "saving to path ./tmp_img/IMG-39.png\n",
      "saving to path ./tmp_img/IMG-40.png\n",
      "saving to path ./tmp_img/IMG-41.png\n",
      "saving to path ./tmp_img/IMG-42.png\n",
      "saving to path ./tmp_img/IMG-43.png\n",
      "saving to path ./tmp_img/IMG-44.png\n",
      "saving to path ./tmp_img/IMG-45.png\n",
      "saving to path ./tmp_img/IMG-46.png\n",
      "saving to path ./tmp_img/IMG-47.png\n",
      "saving to path ./tmp_img/IMG-48.png\n",
      "saving to path ./tmp_img/IMG-49.png\n",
      "saving to path ./tmp_img/IMG-50.png\n",
      "saving to path ./tmp_img/IMG-51.png\n",
      "saving to path ./tmp_img/IMG-52.png\n",
      "saving to path ./tmp_img/IMG-53.png\n",
      "saving to path ./tmp_img/IMG-54.png\n",
      "saving to path ./tmp_img/IMG-55.png\n",
      "saving to path ./tmp_img/IMG-56.png\n",
      "saving to path ./tmp_img/IMG-57.png\n",
      "saving to path ./tmp_img/IMG-58.png\n",
      "saving to path ./tmp_img/IMG-59.png\n",
      "saving to path ./tmp_img/IMG-60.png\n",
      "saving to path ./tmp_img/IMG-61.png\n",
      "saving to path ./tmp_img/IMG-62.png\n",
      "saving to path ./tmp_img/IMG-63.png\n"
     ]
    }
   ],
   "source": [
    "#os.mkdir('tmp')\n",
    "if __name__=='__main__':\n",
    "    infile= '4_test_arange_1.png'\n",
    "    height= 200\n",
    "    width= 200\n",
    "    start_num= 0\n",
    "    for k,piece in enumerate(crop(infile,height,width),start_num):\n",
    "        img=Image.new('RGB', (height,width), 255)\n",
    "        img.paste(piece)\n",
    "        path=os.path.join('./tmp_img',\"IMG-%s.png\" % k)\n",
    "        print('saving to path', path)\n",
    "        img = img.resize((200,200))\n",
    "        imgs.append(img)\n",
    "        img.save(path)"
   ]
  },
  {
   "cell_type": "code",
   "execution_count": 52,
   "metadata": {
    "collapsed": false
   },
   "outputs": [
    {
     "name": "stdout",
     "output_type": "stream",
     "text": [
      "saving to path ./tmp_img/IMG-0.png\n",
      "saving to path ./tmp_img/IMG-1.png\n",
      "saving to path ./tmp_img/IMG-2.png\n",
      "saving to path ./tmp_img/IMG-3.png\n",
      "saving to path ./tmp_img/IMG-4.png\n",
      "saving to path ./tmp_img/IMG-5.png\n",
      "saving to path ./tmp_img/IMG-6.png\n",
      "saving to path ./tmp_img/IMG-7.png\n",
      "saving to path ./tmp_img/IMG-8.png\n",
      "saving to path ./tmp_img/IMG-9.png\n",
      "saving to path ./tmp_img/IMG-10.png\n",
      "saving to path ./tmp_img/IMG-11.png\n",
      "saving to path ./tmp_img/IMG-12.png\n",
      "saving to path ./tmp_img/IMG-13.png\n",
      "saving to path ./tmp_img/IMG-14.png\n",
      "saving to path ./tmp_img/IMG-15.png\n",
      "saving to path ./tmp_img/IMG-16.png\n",
      "saving to path ./tmp_img/IMG-17.png\n",
      "saving to path ./tmp_img/IMG-18.png\n",
      "saving to path ./tmp_img/IMG-19.png\n",
      "saving to path ./tmp_img/IMG-20.png\n",
      "saving to path ./tmp_img/IMG-21.png\n",
      "saving to path ./tmp_img/IMG-22.png\n",
      "saving to path ./tmp_img/IMG-23.png\n",
      "saving to path ./tmp_img/IMG-24.png\n",
      "saving to path ./tmp_img/IMG-25.png\n",
      "saving to path ./tmp_img/IMG-26.png\n",
      "saving to path ./tmp_img/IMG-27.png\n",
      "saving to path ./tmp_img/IMG-28.png\n",
      "saving to path ./tmp_img/IMG-29.png\n",
      "saving to path ./tmp_img/IMG-30.png\n",
      "saving to path ./tmp_img/IMG-31.png\n",
      "saving to path ./tmp_img/IMG-32.png\n",
      "saving to path ./tmp_img/IMG-33.png\n",
      "saving to path ./tmp_img/IMG-34.png\n",
      "saving to path ./tmp_img/IMG-35.png\n",
      "saving to path ./tmp_img/IMG-36.png\n",
      "saving to path ./tmp_img/IMG-37.png\n",
      "saving to path ./tmp_img/IMG-38.png\n",
      "saving to path ./tmp_img/IMG-39.png\n",
      "saving to path ./tmp_img/IMG-40.png\n",
      "saving to path ./tmp_img/IMG-41.png\n",
      "saving to path ./tmp_img/IMG-42.png\n",
      "saving to path ./tmp_img/IMG-43.png\n",
      "saving to path ./tmp_img/IMG-44.png\n",
      "saving to path ./tmp_img/IMG-45.png\n",
      "saving to path ./tmp_img/IMG-46.png\n",
      "saving to path ./tmp_img/IMG-47.png\n",
      "saving to path ./tmp_img/IMG-48.png\n",
      "saving to path ./tmp_img/IMG-49.png\n",
      "saving to path ./tmp_img/IMG-50.png\n",
      "saving to path ./tmp_img/IMG-51.png\n",
      "saving to path ./tmp_img/IMG-52.png\n",
      "saving to path ./tmp_img/IMG-53.png\n",
      "saving to path ./tmp_img/IMG-54.png\n",
      "saving to path ./tmp_img/IMG-55.png\n",
      "saving to path ./tmp_img/IMG-56.png\n",
      "saving to path ./tmp_img/IMG-57.png\n",
      "saving to path ./tmp_img/IMG-58.png\n",
      "saving to path ./tmp_img/IMG-59.png\n",
      "saving to path ./tmp_img/IMG-60.png\n",
      "saving to path ./tmp_img/IMG-61.png\n",
      "saving to path ./tmp_img/IMG-62.png\n",
      "saving to path ./tmp_img/IMG-63.png\n"
     ]
    }
   ],
   "source": [
    "#os.mkdir('tmp_img')\n",
    "imgs = []\n",
    "if __name__=='__main__':\n",
    "    infile= '4_test_arange_1.png'\n",
    "    height= 200\n",
    "    width= 200\n",
    "    start_num= 0\n",
    "    \n",
    "    for k,piece in enumerate(crop(infile,height,width),start_num):\n",
    "        img=Image.new('RGB', (height,width), 255)\n",
    "        img.paste(piece)\n",
    "        path=os.path.join('./tmp_img',\"IMG-%s.png\" % k)\n",
    "        print('saving to path', path)\n",
    "        img = img.resize((200,200))\n",
    "        imgs.append(img)\n",
    "        img.save(path)"
   ]
  },
  {
   "cell_type": "code",
   "execution_count": 43,
   "metadata": {
    "collapsed": false
   },
   "outputs": [],
   "source": [
    "imgs = [np.asarray(img) for img in imgs]"
   ]
  },
  {
   "cell_type": "code",
   "execution_count": 44,
   "metadata": {
    "collapsed": false
   },
   "outputs": [
    {
     "data": {
      "text/plain": [
       "<matplotlib.image.AxesImage at 0x144235668>"
      ]
     },
     "execution_count": 44,
     "metadata": {},
     "output_type": "execute_result"
    }
   ],
   "source": [
    "plt.imshow(utils.montage(imgs, 'normalized.png'))"
   ]
  },
  {
   "cell_type": "code",
   "execution_count": 45,
   "metadata": {
    "collapsed": true
   },
   "outputs": [],
   "source": [
    "??utils.montage"
   ]
  },
  {
   "cell_type": "code",
   "execution_count": null,
   "metadata": {
    "collapsed": true
   },
   "outputs": [],
   "source": []
  }
 ],
 "metadata": {
  "kernelspec": {
   "display_name": "Python 3",
   "language": "python",
   "name": "python3"
  },
  "language_info": {
   "codemirror_mode": {
    "name": "ipython",
    "version": 3
   },
   "file_extension": ".py",
   "mimetype": "text/x-python",
   "name": "python",
   "nbconvert_exporter": "python",
   "pygments_lexer": "ipython3",
   "version": "3.6.0"
  }
 },
 "nbformat": 4,
 "nbformat_minor": 2
}
